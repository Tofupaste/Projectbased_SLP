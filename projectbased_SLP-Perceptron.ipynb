version https://git-lfs.github.com/spec/v1
oid sha256:5a41c861b51086e32653560fe41777d8e0ae0b16cb6ec43bbacb22ef8310b5a5
size 250378908
