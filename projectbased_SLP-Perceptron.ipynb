version https://git-lfs.github.com/spec/v1
oid sha256:69146e2bb6751567c04da87cb3b67a0dd148bb4467ced8f9cabde2dca33e7b54
size 91558849
