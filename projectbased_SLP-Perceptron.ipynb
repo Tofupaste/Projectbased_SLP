version https://git-lfs.github.com/spec/v1
oid sha256:1efccfb5e460ce593607cac8b36a6faaba3720639de47a298a4a8ff7ec068df6
size 250517720
