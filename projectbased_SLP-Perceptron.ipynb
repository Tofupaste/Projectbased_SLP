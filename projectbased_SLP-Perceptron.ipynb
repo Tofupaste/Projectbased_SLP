version https://git-lfs.github.com/spec/v1
oid sha256:d8b88d0a789ecdb35d39b5aca6ef6fe3243fcf5cea75c896df5c8b64c2cac1ca
size 147336
