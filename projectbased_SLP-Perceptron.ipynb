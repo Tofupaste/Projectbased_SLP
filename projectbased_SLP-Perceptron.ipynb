version https://git-lfs.github.com/spec/v1
oid sha256:916305f8b1bf638947cb89d814557069fbe69a1bbf682af21628b0b670c455f6
size 241181
