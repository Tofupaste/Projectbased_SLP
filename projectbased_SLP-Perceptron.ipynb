version https://git-lfs.github.com/spec/v1
oid sha256:1f7c5fda8bc7b66cde195904f6c9fe28540ec247fbe0da38258dc0f12606ef82
size 250200496
