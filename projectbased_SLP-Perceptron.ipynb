version https://git-lfs.github.com/spec/v1
oid sha256:579bca3890fccc0f06c0831490e0d5459c31d54c93d90828626c49ad6daf61ec
size 190289
